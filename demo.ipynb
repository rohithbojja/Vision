{
 "cells": [
  {
   "cell_type": "code",
   "execution_count": 1,
   "metadata": {},
   "outputs": [],
   "source": [
    "import requests\n",
    "import configparser\n",
    "\n",
    "def get_api_key():\n",
    "    config = configparser.ConfigParser ()\n",
    "    config. read ( 'config.ini')\n",
    "    return config['Vision']['api']\n",
    "\n",
    "url = \"https://api.vansh.one/\"\n",
    "headers = {\"Content-Type\": \"application/json\", \"AuthKey\": get_api_key()}\n",
    "data = {\n",
    "    \"model\": \"Vision\",\n",
    "    \"messages\": [\n",
    "        {\"role\": \"system\", \"type\": \"text\", \"content\": \"You are a helpful assistant\"},\n",
    "        {\"role\": \"user\", \"type\": \"text\", \"content\": \"Hello Vision!\"}\n",
    "    ]\n",
    "}\n",
    "response = requests.post(url, headers=headers, json=data)"
   ]
  },
  {
   "cell_type": "code",
   "execution_count": 16,
   "metadata": {},
   "outputs": [
    {
     "name": "stdout",
     "output_type": "stream",
     "text": [
      "What's up! I'm Vision, your go-to AI buddy! How's life treating you ? Need any help or just wanna chat ?\n"
     ]
    }
   ],
   "source": [
    "print(response.json()['Response'][0]['content'])"
   ]
  }
 ],
 "metadata": {
  "kernelspec": {
   "display_name": "llava",
   "language": "python",
   "name": "python3"
  },
  "language_info": {
   "codemirror_mode": {
    "name": "ipython",
    "version": 3
   },
   "file_extension": ".py",
   "mimetype": "text/x-python",
   "name": "python",
   "nbconvert_exporter": "python",
   "pygments_lexer": "ipython3",
   "version": "3.10.13"
  }
 },
 "nbformat": 4,
 "nbformat_minor": 2
}
